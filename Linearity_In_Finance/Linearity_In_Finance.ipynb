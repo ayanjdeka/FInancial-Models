{
 "cells": [
  {
   "cell_type": "code",
   "execution_count": 1,
   "id": "9c895be3",
   "metadata": {},
   "outputs": [
    {
     "name": "stdout",
     "output_type": "stream",
     "text": [
      "-0.008481900352462384 0.5077431878770808\n"
     ]
    }
   ],
   "source": [
    "\"\"\" \n",
    "Capital Asset Pricing Model and Security Markey Line\n",
    "R_i = R_f = B_i(E[R_mkt] - R_f), where R_i marks the returns, beta is B_i (which measures the systematic risk of stock)\n",
    "This equation measures the relationship between risk and stock returns for every stock in the portfolio basket.\n",
    "\"\"\"\n",
    "from scipy import stats\n",
    "stock_returns = [0.065, 0.0265, -0.0593, -0.001, 0.0346]\n",
    "mkt_returns = [0.055, -0.09, -0.041, 0.045, 0.022]\n",
    "beta, alpha, r_value, p_value, std_err = \\\n",
    "    stats.linregress(stock_returns, mkt_returns)\n",
    "print(alpha, beta)"
   ]
  },
  {
   "cell_type": "code",
   "execution_count": 3,
   "id": "26d944e3",
   "metadata": {},
   "outputs": [
    {
     "name": "stdout",
     "output_type": "stream",
     "text": [
      "                            OLS Regression Results                            \n",
      "==============================================================================\n",
      "Dep. Variable:                      y   R-squared:                       0.690\n",
      "Model:                            OLS   Adj. R-squared:                 -1.477\n",
      "Method:                 Least Squares   F-statistic:                    0.3184\n",
      "Date:                Wed, 06 Jul 2022   Prob (F-statistic):              0.880\n",
      "Time:                        15:38:52   Log-Likelihood:                 3.3055\n",
      "No. Observations:                   9   AIC:                             9.389\n",
      "Df Residuals:                       1   BIC:                             10.97\n",
      "Df Model:                           7                                         \n",
      "Covariance Type:            nonrobust                                         \n",
      "==============================================================================\n",
      "                 coef    std err          t      P>|t|      [0.025      0.975]\n",
      "------------------------------------------------------------------------------\n",
      "const          1.1405      2.640      0.432      0.740     -32.407      34.688\n",
      "x1            -1.1388      2.035     -0.559      0.675     -27.001      24.723\n",
      "x2             0.0178      1.062      0.017      0.989     -13.478      13.513\n",
      "x3             0.3789      1.191      0.318      0.804     -14.753      15.511\n",
      "x4            -0.0064      1.163     -0.005      0.997     -14.786      14.774\n",
      "x5             0.2780      1.398      0.199      0.875     -17.480      18.036\n",
      "x6             0.3051      1.275      0.239      0.850     -15.893      16.503\n",
      "x7            -1.3998      1.144     -1.224      0.436     -15.933      13.133\n",
      "==============================================================================\n",
      "Omnibus:                        0.819   Durbin-Watson:                   1.321\n",
      "Prob(Omnibus):                  0.664   Jarque-Bera (JB):                0.683\n",
      "Skew:                           0.464   Prob(JB):                        0.711\n",
      "Kurtosis:                       2.020   Cond. No.                         36.6\n",
      "==============================================================================\n",
      "\n",
      "Notes:\n",
      "[1] Standard Errors assume that the covariance matrix of the errors is correctly specified.\n"
     ]
    },
    {
     "name": "stderr",
     "output_type": "stream",
     "text": [
      "C:\\Users\\ayanj\\Projects\\FinanceWithPython\\my_env\\lib\\site-packages\\scipy\\stats\\_stats_py.py:1477: UserWarning: kurtosistest only valid for n>=20 ... continuing anyway, n=9\n",
      "  warnings.warn(\"kurtosistest only valid for n>=20 ... continuing \"\n"
     ]
    }
   ],
   "source": [
    "\"\"\" \n",
    "Arbitrary Pricing Theory Model uses linear regression (least squares regression) to address the market risk factor\n",
    "E[R_i] = a_i + B_ijF_j wiht 1<=j<=infinity\n",
    "\"\"\"\n",
    "import numpy as np\n",
    "import statsmodels.api as sm\n",
    "\n",
    "# Generate some sample data\n",
    "num_periods = 9\n",
    "all_values = np.array([np.random.random(8) \\\n",
    "                       for i in range(num_periods)])\n",
    "\n",
    "y_values = all_values[:, 0]\n",
    "x_values = all_values[:, 1:]\n",
    "x_values = sm.add_constant(x_values)\n",
    "results = sm.OLS(y_values, x_values).fit()\n",
    "print(results.summary())"
   ]
  },
  {
   "cell_type": "code",
   "execution_count": 5,
   "id": "f3687591",
   "metadata": {},
   "outputs": [
    {
     "name": "stderr",
     "output_type": "stream",
     "text": [
      "C:\\Users\\ayanj\\Projects\\FinanceWithPython\\my_env\\lib\\site-packages\\pulp\\pulp.py:1352: UserWarning: Spaces are not permitted in the name. Converted to '_'\n",
      "  warnings.warn(\"Spaces are not permitted in the name. Converted to '_'\")\n"
     ]
    },
    {
     "name": "stdout",
     "output_type": "stream",
     "text": [
      "Maximization Results\n",
      "x = 20.0\n",
      "y = 60.0\n"
     ]
    }
   ],
   "source": [
    "\"\"\" \n",
    "Linear optimization has to do with rising securities in portfolios, so limitations are brought up\n",
    "Linear optimization solves this, by focusing on variables, with the PuLP library assisting in this\n",
    "\"\"\"\n",
    "import pulp\n",
    "\n",
    "x = pulp.LpVariable('x', lowBound=0)\n",
    "y = pulp.LpVariable('y', lowBound=0)\n",
    "\n",
    "problem = pulp.LpProblem(\n",
    "    'A simple maximization objective', \n",
    "    pulp.LpMaximize)\n",
    "problem += 3*x + 2*y, 'The objective function'\n",
    "problem += 2*x + y <= 100, '1st constraint'\n",
    "problem += x + y <= 80, '2nd constraint'\n",
    "problem += x <= 40, '3rd constraint'\n",
    "problem.solve()\n",
    "\n",
    "print(\"Maximization Results\")\n",
    "for variable in problem.variables():\n",
    "    print(variable.name, '=', variable.varValue)"
   ]
  },
  {
   "cell_type": "code",
   "execution_count": 6,
   "id": "004f0b47",
   "metadata": {},
   "outputs": [
    {
     "name": "stdout",
     "output_type": "stream",
     "text": [
      "Minimization Results:\n",
      "orders_X = 0.0\n",
      "orders_Y = 1.0\n",
      "orders_Z = 1.0\n",
      "quantity_X = 0.0\n",
      "quantity_Y = 90.0\n",
      "quantity_Z = 60.0\n",
      "Total cost: 66500.0\n"
     ]
    }
   ],
   "source": [
    "\"\"\"\n",
    "Linear optimization with integer programming abd binary conditions\n",
    "\"\"\"\n",
    "import pulp\n",
    "\n",
    "dealers = ['X', 'Y', 'Z']\n",
    "variable_costs = {'X': 500, 'Y': 350, 'Z': 450}\n",
    "fixed_costs = {'X': 4000, 'Y': 2000, 'Z': 6000}\n",
    "\n",
    "# Define PuLP variables to solve\n",
    "quantities = pulp.LpVariable.dicts('quantity', \n",
    "                                   dealers, \n",
    "                                   lowBound=0,\n",
    "                                   cat=pulp.LpInteger)\n",
    "is_orders = pulp.LpVariable.dicts('orders', \n",
    "                                  dealers,\n",
    "                                  cat=pulp.LpBinary)\n",
    "\n",
    "model = pulp.LpProblem('A cost minimization problem',\n",
    "                       pulp.LpMinimize)\n",
    "model += sum(\n",
    "    [variable_costs[i]*quantities[i] + \\\n",
    "         fixed_costs[i]*is_orders[i] for i in dealers])\\\n",
    "    , 'Minimize portfolio cost'\n",
    "model += sum([quantities[i] for i in dealers]) == 150\\\n",
    "    ,  'Total contracts required'\n",
    "model += is_orders['X']*30 <= quantities['X'] <= \\\n",
    "    is_orders['X']*100, 'Boundary of total volume of X'\n",
    "model += is_orders['Y']*30 <= quantities['Y'] <= \\\n",
    "    is_orders['Y']*90, 'Boundary of total volume of Y'\n",
    "model += is_orders['Z']*30 <= quantities['Z'] <= \\\n",
    "    is_orders['Z']*70, 'Boundary of total volume of Z'\n",
    "model.solve()\n",
    "\n",
    "print('Minimization Results:')\n",
    "for variable in model.variables():\n",
    "    print(variable, '=', variable.varValue)\n",
    "\n",
    "print('Total cost:',  pulp.value(model.objective))"
   ]
  },
  {
   "cell_type": "code",
   "execution_count": 7,
   "id": "5495f791",
   "metadata": {},
   "outputs": [
    {
     "name": "stdout",
     "output_type": "stream",
     "text": [
      "Solving for x between A and B matrices,  [  6.  15. -23.]\n",
      "Solving LU for matrix A\n",
      "P=\n",
      " [[1. 0. 0.]\n",
      " [0. 1. 0.]\n",
      " [0. 0. 1.]]\n",
      "L=\n",
      " [[ 1.   0.   0. ]\n",
      " [ 0.5  1.   0. ]\n",
      " [ 0.5 -0.2  1. ]]\n",
      "U=\n",
      " [[ 2.   1.   1. ]\n",
      " [ 0.   2.5  1.5]\n",
      " [ 0.   0.  -0.2]]\n"
     ]
    }
   ],
   "source": [
    "\"\"\"\n",
    "The LU Decomposition solves square systems of linear equations\n",
    "\"\"\"\n",
    "import numpy as np\n",
    "import scipy.linalg as linalg\n",
    "import scipy\n",
    "\n",
    "\n",
    "# Define A and B\n",
    "A = np.array([\n",
    "    [2., 1., 1.],\n",
    "    [1., 3., 2.],\n",
    "    [1., 0., 0.]])\n",
    "B = np.array([4., 5., 6.])\n",
    "\n",
    "LU = linalg.lu_factor(A)\n",
    "x = linalg.lu_solve(LU, B)\n",
    "\n",
    "print('Solving for x between A and B matrices, ', x)\n",
    "\n",
    "P, L, U = scipy.linalg.lu(A)\n",
    "print('Solving LU for matrix A')\n",
    "print('P=\\n', P)\n",
    "print('L=\\n', L)\n",
    "print('U=\\n', U)"
   ]
  },
  {
   "cell_type": "code",
   "execution_count": 9,
   "id": "210262d3",
   "metadata": {},
   "outputs": [
    {
     "name": "stdout",
     "output_type": "stream",
     "text": [
      "[[ 3.16227766  0.          0.          0.        ]\n",
      " [-0.31622777  3.3015148   0.          0.        ]\n",
      " [ 0.63245553 -0.24231301  3.08889696  0.        ]\n",
      " [ 0.          0.9086738  -0.25245792  2.6665665 ]]\n"
     ]
    }
   ],
   "source": [
    "\"\"\"\n",
    "The Cholesky decomposition is another way of solving systems of linear equations,\n",
    "and this can be faster than LU by exploiting symmetric matrices\n",
    "Matrix A must be decomposed as A = LL^T, where L is a lower triangular matrix\n",
    "with real and positive numbers, while L^T is a conjugate transpose of L\n",
    "\"\"\"\n",
    "import numpy as np\n",
    "\n",
    "A = np.array([\n",
    "    [10., -1., 2., 0.],\n",
    "    [-1., 11., -1., 3.],\n",
    "    [2., -1., 10., -1.],\n",
    "    [0., 3., -1., 8.]])\n",
    "B = np.array([6., 25., -11., 15.])\n",
    "\n",
    "L = np.linalg.cholesky(A)\n",
    "\n",
    "print(L)\n"
   ]
  },
  {
   "cell_type": "code",
   "execution_count": 12,
   "id": "514328b5",
   "metadata": {},
   "outputs": [
    {
     "name": "stdout",
     "output_type": "stream",
     "text": [
      "x = [ 1.  2. -1.  1.]\n"
     ]
    }
   ],
   "source": [
    "\"\"\"\n",
    "If the size of one of the matrices is large, it is easier to iteratiely\n",
    "break down the problem so that it is easier to converge. The first method is \n",
    "the Jacobian method\n",
    "\"\"\"\n",
    "import numpy as np\n",
    "\n",
    "def jacobi (A, B, n, tol = 1e-10):\n",
    "    x = np.zeros_like(B)\n",
    "\n",
    "    for iter_count in range(n):\n",
    "        x_new = np.zeros_like(x)\n",
    "        for i in range(A.shape[0]):\n",
    "            s1 = np.dot(A[i, :i], x[:i])\n",
    "            s2 = np.dot(A[i, i + 1:], x[i + 1:])\n",
    "            x_new[i] = (B[i] - s1 - s2) / A[i, i]\n",
    "        if np.allclose(x, x_new, tol):\n",
    "            break\n",
    "        \n",
    "        x = x_new\n",
    "    return x\n",
    "A = np.array([\n",
    "    [10., -1., 2., 0.], \n",
    "    [-1., 11., -1., 3.], \n",
    "    [2., -1., 10., -1.], \n",
    "    [0.0, 3., -1., 8.]])\n",
    "B = np.array([6., 25., -11., 15.])\n",
    "n = 25\n",
    "x = jacobi(A, B, n)\n",
    "print('x', '=', x)"
   ]
  },
  {
   "cell_type": "code",
   "execution_count": 13,
   "id": "706f0c9c",
   "metadata": {},
   "outputs": [
    {
     "name": "stdout",
     "output_type": "stream",
     "text": [
      "x = [ 1.  2. -1.  1.]\n"
     ]
    }
   ],
   "source": [
    "\"\"\"\n",
    "If the size of one of the matrices is large, it is easier to iteratiely\n",
    "break down the problem so that it is easier to converge. The first method is \n",
    "the Gausee-Seidel method\n",
    "\"\"\"\n",
    "import numpy as np\n",
    "\n",
    "def gauss(A, B, n, tol = 1e-10):\n",
    "    L = np.tril(A)\n",
    "    U = A-L\n",
    "    L_inv = np.linalg.inv(L)\n",
    "    x = np.zeros_like(B)\n",
    "    \n",
    "    for i in range(n):\n",
    "        Ux = np.dot(U, x)\n",
    "        x_new = np.dot(L_inv, B - Ux)\n",
    "        \n",
    "        if np.allclose(x, x_new, tol):\n",
    "            break\n",
    "        x = x_new\n",
    "        \n",
    "    return x\n",
    "\n",
    "A = np.array([\n",
    "    [10., -1., 2., 0.], \n",
    "    [-1., 11., -1., 3.], \n",
    "    [2., -1., 10., -1.], \n",
    "    [0.0, 3., -1., 8.]])\n",
    "B = np.array([6., 25., -11., 15.])\n",
    "n = 100\n",
    "x = gauss(A, B, n)\n",
    "print('x', '=', x)"
   ]
  }
 ],
 "metadata": {
  "kernelspec": {
   "display_name": "Python 3 (ipykernel)",
   "language": "python",
   "name": "python3"
  },
  "language_info": {
   "codemirror_mode": {
    "name": "ipython",
    "version": 3
   },
   "file_extension": ".py",
   "mimetype": "text/x-python",
   "name": "python",
   "nbconvert_exporter": "python",
   "pygments_lexer": "ipython3",
   "version": "3.10.2"
  }
 },
 "nbformat": 4,
 "nbformat_minor": 5
}
